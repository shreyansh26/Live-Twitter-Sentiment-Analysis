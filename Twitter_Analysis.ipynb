{
 "cells": [
  {
   "cell_type": "code",
   "execution_count": 87,
   "metadata": {},
   "outputs": [],
   "source": [
    "import tweepy\n",
    "from tweepy.streaming import StreamListener\n",
    "from tweepy import OAuthHandler\n",
    "from tweepy import Stream\n",
    "import json\n",
    "from IPython.display import Image,display"
   ]
  },
  {
   "cell_type": "code",
   "execution_count": 7,
   "metadata": {},
   "outputs": [],
   "source": [
    "#Setting up credentials\n",
    "\n",
    "cred = json.load(open('config.json'))\n",
    "Access_Key = cred['User_2']['Access_Key']\n",
    "Access_Secret_Key = cred['User_2']['Access_Secret_Key']\n",
    "Consumer_Key = cred['User_2']['Consumer_Key']\n",
    "Consumer_Secret_Key = cred['User_2']['Consumer_Secret_Key']"
   ]
  },
  {
   "cell_type": "code",
   "execution_count": 8,
   "metadata": {},
   "outputs": [],
   "source": [
    "auth = OAuthHandler(consumer_key = Consumer_Key , consumer_secret = Consumer_Secret_Key)\n",
    "auth.set_access_token(key = Access_Key,secret = Access_Secret_Key)\n",
    "api = tweepy.API(auth)"
   ]
  },
  {
   "cell_type": "code",
   "execution_count": 116,
   "metadata": {},
   "outputs": [],
   "source": [
    "profile = api.me()\n",
    "screen_name = profile.screen_name\n",
    "name = profile.name\n",
    "location = profile.location\n",
    "friends_count = profile.friends_count\n",
    "profile_image_url = profile.profile_image_url\n",
    "my_followers = ','.join([follower.name for follower in api.followers()])\n",
    "my_followers_id = [follower.id for follower in api.followers()]"
   ]
  },
  {
   "cell_type": "code",
   "execution_count": 118,
   "metadata": {},
   "outputs": [
    {
     "name": "stdout",
     "output_type": "stream",
     "text": [
      "My Details\n",
      "Screen Name : shreyansh_26\n",
      "Name : Shreyansh Singh\n",
      "Location : Pune, India\n",
      "Friends : 660\n",
      "My Followers : Clark Kent,Sundarr Insa,Mike Higgins,Ajay Raikar,depeng li,Hrishikesh Somchatwar,Pritam Ghosh,w00x,WiseCrowd,devinanda,Women,Willettcable,IMBitCoinGold,bitzdesign,Neeraj Alavelli,Akshay Sharma,Abhishek Sharma,Peter Huene,Tash Norris,Minali Arora\n"
     ]
    },
    {
     "data": {
      "text/html": [
       "<img src=\"http://pbs.twimg.com/profile_images/996692876426854400/FoZOHl9O_normal.jpg\"/>"
      ],
      "text/plain": [
       "<IPython.core.display.Image object>"
      ]
     },
     "execution_count": 118,
     "metadata": {},
     "output_type": "execute_result"
    }
   ],
   "source": [
    "print(\"My Details\\nScreen Name : {}\\nName : {}\\nLocation : {}\\nFriends : {}\\nMy Followers : {}\".\n",
    "      format(screen_name,name ,location, friends_count, my_followers))\n",
    "Image(url = profile_image_url)\n"
   ]
  },
  {
   "cell_type": "code",
   "execution_count": 120,
   "metadata": {},
   "outputs": [
    {
     "data": {
      "text/html": [
       "<img src=\"http://pbs.twimg.com/profile_images/1028591856601333760/o_7Qycbn_normal.jpg\"/>"
      ],
      "text/plain": [
       "<IPython.core.display.Image object>"
      ]
     },
     "metadata": {},
     "output_type": "display_data"
    },
    {
     "name": "stdout",
     "output_type": "stream",
     "text": [
      "User Name : clarkkent04211 \n"
     ]
    },
    {
     "data": {
      "text/html": [
       "<img src=\"http://pbs.twimg.com/profile_images/963862675800248320/sJtNceIu_normal.jpg\"/>"
      ],
      "text/plain": [
       "<IPython.core.display.Image object>"
      ]
     },
     "metadata": {},
     "output_type": "display_data"
    },
    {
     "name": "stdout",
     "output_type": "stream",
     "text": [
      "User Name : SUNDARR_INSA \n"
     ]
    },
    {
     "data": {
      "text/html": [
       "<img src=\"http://pbs.twimg.com/profile_images/1018928876586586112/-9jqgxWh_normal.jpg\"/>"
      ],
      "text/plain": [
       "<IPython.core.display.Image object>"
      ]
     },
     "metadata": {},
     "output_type": "display_data"
    },
    {
     "name": "stdout",
     "output_type": "stream",
     "text": [
      "User Name : BosBorn1 \n"
     ]
    },
    {
     "data": {
      "text/html": [
       "<img src=\"http://pbs.twimg.com/profile_images/1052911047722426368/sDcDVHmW_normal.jpg\"/>"
      ],
      "text/plain": [
       "<IPython.core.display.Image object>"
      ]
     },
     "metadata": {},
     "output_type": "display_data"
    },
    {
     "name": "stdout",
     "output_type": "stream",
     "text": [
      "User Name : techyajay \n"
     ]
    },
    {
     "data": {
      "text/html": [
       "<img src=\"http://pbs.twimg.com/profile_images/1043785285069344769/Vw4diJcw_normal.jpg\"/>"
      ],
      "text/plain": [
       "<IPython.core.display.Image object>"
      ]
     },
     "metadata": {},
     "output_type": "display_data"
    },
    {
     "name": "stdout",
     "output_type": "stream",
     "text": [
      "User Name : Tigernb2b \n"
     ]
    },
    {
     "data": {
      "text/html": [
       "<img src=\"http://pbs.twimg.com/profile_images/937869814462402568/M--wP4MC_normal.jpg\"/>"
      ],
      "text/plain": [
       "<IPython.core.display.Image object>"
      ]
     },
     "metadata": {},
     "output_type": "display_data"
    },
    {
     "name": "stdout",
     "output_type": "stream",
     "text": [
      "User Name : 8080hex \n"
     ]
    },
    {
     "data": {
      "text/html": [
       "<img src=\"http://pbs.twimg.com/profile_images/1041549295378345984/18DjQsOo_normal.jpg\"/>"
      ],
      "text/plain": [
       "<IPython.core.display.Image object>"
      ]
     },
     "metadata": {},
     "output_type": "display_data"
    },
    {
     "name": "stdout",
     "output_type": "stream",
     "text": [
      "User Name : m3rrym4n_h4ck3r \n"
     ]
    },
    {
     "data": {
      "text/html": [
       "<img src=\"http://abs.twimg.com/sticky/default_profile_images/default_profile_normal.png\"/>"
      ],
      "text/plain": [
       "<IPython.core.display.Image object>"
      ]
     },
     "metadata": {},
     "output_type": "display_data"
    },
    {
     "name": "stdout",
     "output_type": "stream",
     "text": [
      "User Name : w00x00x \n"
     ]
    },
    {
     "data": {
      "text/html": [
       "<img src=\"http://pbs.twimg.com/profile_images/897462017593835520/zcaKvnpz_normal.jpg\"/>"
      ],
      "text/plain": [
       "<IPython.core.display.Image object>"
      ]
     },
     "metadata": {},
     "output_type": "display_data"
    },
    {
     "name": "stdout",
     "output_type": "stream",
     "text": [
      "User Name : WiseCrowdGlobal \n"
     ]
    },
    {
     "data": {
      "text/html": [
       "<img src=\"http://pbs.twimg.com/profile_images/1028304194829090816/zqPoYMTQ_normal.jpg\"/>"
      ],
      "text/plain": [
       "<IPython.core.display.Image object>"
      ]
     },
     "metadata": {},
     "output_type": "display_data"
    },
    {
     "name": "stdout",
     "output_type": "stream",
     "text": [
      "User Name : marketerdevi \n"
     ]
    },
    {
     "data": {
      "text/html": [
       "<img src=\"http://pbs.twimg.com/profile_images/1063698085644095488/hf-U6fg1_normal.jpg\"/>"
      ],
      "text/plain": [
       "<IPython.core.display.Image object>"
      ]
     },
     "metadata": {},
     "output_type": "display_data"
    },
    {
     "name": "stdout",
     "output_type": "stream",
     "text": [
      "User Name : InInfosec \n"
     ]
    },
    {
     "data": {
      "text/html": [
       "<img src=\"http://pbs.twimg.com/profile_images/1039026180274380800/LMZ_aNnQ_normal.jpg\"/>"
      ],
      "text/plain": [
       "<IPython.core.display.Image object>"
      ]
     },
     "metadata": {},
     "output_type": "display_data"
    },
    {
     "name": "stdout",
     "output_type": "stream",
     "text": [
      "User Name : willettcable \n"
     ]
    },
    {
     "data": {
      "text/html": [
       "<img src=\"http://abs.twimg.com/sticky/default_profile_images/default_profile_normal.png\"/>"
      ],
      "text/plain": [
       "<IPython.core.display.Image object>"
      ]
     },
     "metadata": {},
     "output_type": "display_data"
    },
    {
     "name": "stdout",
     "output_type": "stream",
     "text": [
      "User Name : IMAhmadRaxa \n"
     ]
    },
    {
     "data": {
      "text/html": [
       "<img src=\"http://pbs.twimg.com/profile_images/1005738052910710785/AqeEFcgH_normal.jpg\"/>"
      ],
      "text/plain": [
       "<IPython.core.display.Image object>"
      ]
     },
     "metadata": {},
     "output_type": "display_data"
    },
    {
     "name": "stdout",
     "output_type": "stream",
     "text": [
      "User Name : bitzdesign \n"
     ]
    },
    {
     "data": {
      "text/html": [
       "<img src=\"http://pbs.twimg.com/profile_images/769140983925800961/1wqkzX-t_normal.jpg\"/>"
      ],
      "text/plain": [
       "<IPython.core.display.Image object>"
      ]
     },
     "metadata": {},
     "output_type": "display_data"
    },
    {
     "name": "stdout",
     "output_type": "stream",
     "text": [
      "User Name : NeerajAlavelli \n"
     ]
    },
    {
     "data": {
      "text/html": [
       "<img src=\"http://pbs.twimg.com/profile_images/965791420144594944/LfJ-ndKo_normal.jpg\"/>"
      ],
      "text/plain": [
       "<IPython.core.display.Image object>"
      ]
     },
     "metadata": {},
     "output_type": "display_data"
    },
    {
     "name": "stdout",
     "output_type": "stream",
     "text": [
      "User Name : _akshay_sharma_ \n"
     ]
    },
    {
     "data": {
      "text/html": [
       "<img src=\"http://pbs.twimg.com/profile_images/1008946978443522049/A7UaiYu6_normal.jpg\"/>"
      ],
      "text/plain": [
       "<IPython.core.display.Image object>"
      ]
     },
     "metadata": {},
     "output_type": "display_data"
    },
    {
     "name": "stdout",
     "output_type": "stream",
     "text": [
      "User Name : abhish_eksharma \n"
     ]
    },
    {
     "data": {
      "text/html": [
       "<img src=\"http://pbs.twimg.com/profile_images/826557441445801984/UpXTRN1C_normal.jpg\"/>"
      ],
      "text/plain": [
       "<IPython.core.display.Image object>"
      ]
     },
     "metadata": {},
     "output_type": "display_data"
    },
    {
     "name": "stdout",
     "output_type": "stream",
     "text": [
      "User Name : peterhuene \n"
     ]
    },
    {
     "data": {
      "text/html": [
       "<img src=\"http://pbs.twimg.com/profile_images/378800000452382716/514b9b076d856e48d008cac3d3b99523_normal.jpeg\"/>"
      ],
      "text/plain": [
       "<IPython.core.display.Image object>"
      ]
     },
     "metadata": {},
     "output_type": "display_data"
    },
    {
     "name": "stdout",
     "output_type": "stream",
     "text": [
      "User Name : TashJNorris \n"
     ]
    },
    {
     "data": {
      "text/html": [
       "<img src=\"http://pbs.twimg.com/profile_images/709429033038024704/nesK0F6o_normal.jpg\"/>"
      ],
      "text/plain": [
       "<IPython.core.display.Image object>"
      ]
     },
     "metadata": {},
     "output_type": "display_data"
    },
    {
     "name": "stdout",
     "output_type": "stream",
     "text": [
      "User Name : AroraMinali \n"
     ]
    }
   ],
   "source": [
    "for follower_id in my_followers_id:\n",
    "    user = api.get_user(follower_id)\n",
    "    image = Image(url= user.profile_image_url)\n",
    "    print(\"User Name : {} \".format(user.screen_name , display(image)))"
   ]
  },
  {
   "cell_type": "code",
   "execution_count": 14,
   "metadata": {},
   "outputs": [
    {
     "name": "stdout",
     "output_type": "stream",
     "text": [
      "@sharmaayush358 Yes, it is.\n",
      "A very interesting keynote lecture on \"Humans in information security: why people are the weakest link and how can… https://t.co/4gG28KvM1L\n",
      "A day well spent on the Hardware CTF organised by @nullcon at the SPACE 2018 conference at IIT Kanpur. Learnt some… https://t.co/IbubMr2v8M\n",
      "Jo Van Bulck from KU Leuven, Belgium giving a workshop on \"Uncovering and Mitigating Side-Chqnnel Leakage in Intel… https://t.co/1HGtaeKOq7\n"
     ]
    }
   ],
   "source": [
    "for retweets in api.retweets_of_me():\n",
    "    print(retweets.text)"
   ]
  },
  {
   "cell_type": "code",
   "execution_count": 121,
   "metadata": {},
   "outputs": [
    {
     "name": "stdout",
     "output_type": "stream",
     "text": [
      "Some of my friends.\n",
      "Name  : Karl Floersch\n"
     ]
    },
    {
     "data": {
      "text/html": [
       "<img src=\"http://pbs.twimg.com/profile_images/994029803492622336/S3MKHNTN_normal.jpg\"/>"
      ],
      "text/plain": [
       "<IPython.core.display.Image object>"
      ]
     },
     "metadata": {},
     "output_type": "display_data"
    },
    {
     "name": "stdout",
     "output_type": "stream",
     "text": [
      "Name  : André Baptista\n"
     ]
    },
    {
     "data": {
      "text/html": [
       "<img src=\"http://pbs.twimg.com/profile_images/1004022593731678208/FKs6RERa_normal.jpg\"/>"
      ],
      "text/plain": [
       "<IPython.core.display.Image object>"
      ]
     },
     "metadata": {},
     "output_type": "display_data"
    },
    {
     "name": "stdout",
     "output_type": "stream",
     "text": [
      "Name  : svbl\n"
     ]
    },
    {
     "data": {
      "text/html": [
       "<img src=\"http://pbs.twimg.com/profile_images/1070625487016378369/kBXOSTxt_normal.jpg\"/>"
      ],
      "text/plain": [
       "<IPython.core.display.Image object>"
      ]
     },
     "metadata": {},
     "output_type": "display_data"
    },
    {
     "name": "stdout",
     "output_type": "stream",
     "text": [
      "Name  : OccupytheWeb\n"
     ]
    },
    {
     "data": {
      "text/html": [
       "<img src=\"http://pbs.twimg.com/profile_images/378800000080433150/15a3611a51ea416c857ba088cdff7d78_normal.jpeg\"/>"
      ],
      "text/plain": [
       "<IPython.core.display.Image object>"
      ]
     },
     "metadata": {},
     "output_type": "display_data"
    },
    {
     "name": "stdout",
     "output_type": "stream",
     "text": [
      "Name  : Himanshu Anand\n"
     ]
    },
    {
     "data": {
      "text/html": [
       "<img src=\"http://pbs.twimg.com/profile_images/378800000000165583/943c669126db4e2b72701565752f377b_normal.jpeg\"/>"
      ],
      "text/plain": [
       "<IPython.core.display.Image object>"
      ]
     },
     "metadata": {},
     "output_type": "display_data"
    },
    {
     "name": "stdout",
     "output_type": "stream",
     "text": [
      "Name  : Zoë Rose\n"
     ]
    },
    {
     "data": {
      "text/html": [
       "<img src=\"http://pbs.twimg.com/profile_images/1077162971732889602/hMli0tbs_normal.jpg\"/>"
      ],
      "text/plain": [
       "<IPython.core.display.Image object>"
      ]
     },
     "metadata": {},
     "output_type": "display_data"
    },
    {
     "name": "stdout",
     "output_type": "stream",
     "text": [
      "Name  : Eran\n"
     ]
    },
    {
     "data": {
      "text/html": [
       "<img src=\"http://pbs.twimg.com/profile_images/1050079928769687552/AOeh3-Nk_normal.jpg\"/>"
      ],
      "text/plain": [
       "<IPython.core.display.Image object>"
      ]
     },
     "metadata": {},
     "output_type": "display_data"
    },
    {
     "name": "stdout",
     "output_type": "stream",
     "text": [
      "Name  : Ajay Raikar\n"
     ]
    },
    {
     "data": {
      "text/html": [
       "<img src=\"http://pbs.twimg.com/profile_images/1052911047722426368/sDcDVHmW_normal.jpg\"/>"
      ],
      "text/plain": [
       "<IPython.core.display.Image object>"
      ]
     },
     "metadata": {},
     "output_type": "display_data"
    },
    {
     "name": "stdout",
     "output_type": "stream",
     "text": [
      "Name  : AbdulAziz Hariri\n"
     ]
    },
    {
     "data": {
      "text/html": [
       "<img src=\"http://pbs.twimg.com/profile_images/783504818748915712/OEGPkqsx_normal.jpg\"/>"
      ],
      "text/plain": [
       "<IPython.core.display.Image object>"
      ]
     },
     "metadata": {},
     "output_type": "display_data"
    },
    {
     "name": "stdout",
     "output_type": "stream",
     "text": [
      "Name  : Simon Zuckerbraun\n"
     ]
    },
    {
     "data": {
      "text/html": [
       "<img src=\"http://pbs.twimg.com/profile_images/300167032/1_normal.jpg\"/>"
      ],
      "text/plain": [
       "<IPython.core.display.Image object>"
      ]
     },
     "metadata": {},
     "output_type": "display_data"
    },
    {
     "name": "stdout",
     "output_type": "stream",
     "text": [
      "Name  : 👩‍💻 DynamicWebPaige @ 🏘️🎄\n"
     ]
    },
    {
     "data": {
      "text/html": [
       "<img src=\"http://pbs.twimg.com/profile_images/626762747330457600/X3Bx503W_normal.jpg\"/>"
      ],
      "text/plain": [
       "<IPython.core.display.Image object>"
      ]
     },
     "metadata": {},
     "output_type": "display_data"
    },
    {
     "name": "stdout",
     "output_type": "stream",
     "text": [
      "Name  : null\n"
     ]
    },
    {
     "data": {
      "text/html": [
       "<img src=\"http://pbs.twimg.com/profile_images/71713010/logo_url_normal.png\"/>"
      ],
      "text/plain": [
       "<IPython.core.display.Image object>"
      ]
     },
     "metadata": {},
     "output_type": "display_data"
    },
    {
     "name": "stdout",
     "output_type": "stream",
     "text": [
      "Name  : Jo Van Bulck\n"
     ]
    },
    {
     "data": {
      "text/html": [
       "<img src=\"http://pbs.twimg.com/profile_images/973686930595614720/cK_u7dsx_normal.jpg\"/>"
      ],
      "text/plain": [
       "<IPython.core.display.Image object>"
      ]
     },
     "metadata": {},
     "output_type": "display_data"
    },
    {
     "name": "stdout",
     "output_type": "stream",
     "text": [
      "Name  : MalwareTech\n"
     ]
    },
    {
     "data": {
      "text/html": [
       "<img src=\"http://pbs.twimg.com/profile_images/1068596092026085377/q2kkylpc_normal.jpg\"/>"
      ],
      "text/plain": [
       "<IPython.core.display.Image object>"
      ]
     },
     "metadata": {},
     "output_type": "display_data"
    },
    {
     "name": "stdout",
     "output_type": "stream",
     "text": [
      "Name  : Tencent Blade Team\n"
     ]
    },
    {
     "data": {
      "text/html": [
       "<img src=\"http://pbs.twimg.com/profile_images/1026535933544259585/fwRgAG95_normal.jpg\"/>"
      ],
      "text/plain": [
       "<IPython.core.display.Image object>"
      ]
     },
     "metadata": {},
     "output_type": "display_data"
    },
    {
     "name": "stdout",
     "output_type": "stream",
     "text": [
      "Name  : Anna Rudolf\n"
     ]
    },
    {
     "data": {
      "text/html": [
       "<img src=\"http://pbs.twimg.com/profile_images/1025424024753655808/IhEWxRlD_normal.jpg\"/>"
      ],
      "text/plain": [
       "<IPython.core.display.Image object>"
      ]
     },
     "metadata": {},
     "output_type": "display_data"
    },
    {
     "name": "stdout",
     "output_type": "stream",
     "text": [
      "Name  : Bernardo Quintero\n"
     ]
    },
    {
     "data": {
      "text/html": [
       "<img src=\"http://pbs.twimg.com/profile_images/454943554/BQ_normal.png\"/>"
      ],
      "text/plain": [
       "<IPython.core.display.Image object>"
      ]
     },
     "metadata": {},
     "output_type": "display_data"
    },
    {
     "name": "stdout",
     "output_type": "stream",
     "text": [
      "Name  : Real World Crypto\n"
     ]
    },
    {
     "data": {
      "text/html": [
       "<img src=\"http://pbs.twimg.com/profile_images/543054183453057024/nmcKfZJm_normal.png\"/>"
      ],
      "text/plain": [
       "<IPython.core.display.Image object>"
      ]
     },
     "metadata": {},
     "output_type": "display_data"
    },
    {
     "name": "stdout",
     "output_type": "stream",
     "text": [
      "Name  : Johnathan Norman\n"
     ]
    },
    {
     "data": {
      "text/html": [
       "<img src=\"http://pbs.twimg.com/profile_images/1042793503896420352/z8ldycj-_normal.jpg\"/>"
      ],
      "text/plain": [
       "<IPython.core.display.Image object>"
      ]
     },
     "metadata": {},
     "output_type": "display_data"
    },
    {
     "name": "stdout",
     "output_type": "stream",
     "text": [
      "Name  : Chuanda Ding\n"
     ]
    },
    {
     "data": {
      "text/html": [
       "<img src=\"http://abs.twimg.com/sticky/default_profile_images/default_profile_normal.png\"/>"
      ],
      "text/plain": [
       "<IPython.core.display.Image object>"
      ]
     },
     "metadata": {},
     "output_type": "display_data"
    }
   ],
   "source": [
    "print(\"Some of my friends.\")\n",
    "for id in api.friends_ids()[:20]:\n",
    "    user = api.get_user(id)\n",
    "    print(\"Name  : {}\".format(user.name))\n",
    "    image = Image(url= user.profile_image_url)\n",
    "    display(image)"
   ]
  },
  {
   "cell_type": "code",
   "execution_count": 122,
   "metadata": {},
   "outputs": [
    {
     "name": "stdout",
     "output_type": "stream",
     "text": [
      "Updating my profile picture.\n",
      "Updating my status.\n"
     ]
    },
    {
     "data": {
      "text/plain": [
       "Status(_api=<tweepy.api.API object at 0x000002343A4F49E8>, _json={'created_at': 'Wed Dec 26 01:04:28 +0000 2018', 'id': 1077731841099087872, 'id_str': '1077731841099087872', 'text': 'Merry Chritsmas to all.', 'truncated': False, 'entities': {'hashtags': [], 'symbols': [], 'user_mentions': [], 'urls': []}, 'source': '<a href=\"https://shreyansh26blog.herokuapp.com\" rel=\"nofollow\">live_sentiment_ss</a>', 'in_reply_to_status_id': None, 'in_reply_to_status_id_str': None, 'in_reply_to_user_id': None, 'in_reply_to_user_id_str': None, 'in_reply_to_screen_name': None, 'user': {'id': 2566732320, 'id_str': '2566732320', 'name': 'Shreyansh Singh', 'screen_name': 'shreyansh_26', 'location': 'Pune, India', 'description': 'IIT (BHU) Varanasi | Cybersecurity Research Intern @IITKanpur |  Machine Learning and AI enthusiast | InfoSec geek', 'url': 'https://t.co/ZZUzG7QiYP', 'entities': {'url': {'urls': [{'url': 'https://t.co/ZZUzG7QiYP', 'expanded_url': 'http://shreyansh26.github.io', 'display_url': 'shreyansh26.github.io', 'indices': [0, 23]}]}, 'description': {'urls': []}}, 'protected': False, 'followers_count': 38, 'friends_count': 660, 'listed_count': 0, 'created_at': 'Sat Jun 14 08:44:13 +0000 2014', 'favourites_count': 880, 'utc_offset': None, 'time_zone': None, 'geo_enabled': False, 'verified': False, 'statuses_count': 143, 'lang': 'en', 'contributors_enabled': False, 'is_translator': False, 'is_translation_enabled': False, 'profile_background_color': '000000', 'profile_background_image_url': 'http://abs.twimg.com/images/themes/theme1/bg.png', 'profile_background_image_url_https': 'https://abs.twimg.com/images/themes/theme1/bg.png', 'profile_background_tile': False, 'profile_image_url': 'http://pbs.twimg.com/profile_images/1077731837198376960/L7QxX4ey_normal.jpg', 'profile_image_url_https': 'https://pbs.twimg.com/profile_images/1077731837198376960/L7QxX4ey_normal.jpg', 'profile_link_color': '19CF86', 'profile_sidebar_border_color': '000000', 'profile_sidebar_fill_color': '000000', 'profile_text_color': '000000', 'profile_use_background_image': False, 'has_extended_profile': True, 'default_profile': False, 'default_profile_image': False, 'following': False, 'follow_request_sent': False, 'notifications': False, 'translator_type': 'none'}, 'geo': None, 'coordinates': None, 'place': None, 'contributors': None, 'is_quote_status': False, 'retweet_count': 0, 'favorite_count': 0, 'favorited': False, 'retweeted': False, 'lang': 'en'}, created_at=datetime.datetime(2018, 12, 26, 1, 4, 28), id=1077731841099087872, id_str='1077731841099087872', text='Merry Chritsmas to all.', truncated=False, entities={'hashtags': [], 'symbols': [], 'user_mentions': [], 'urls': []}, source='live_sentiment_ss', source_url='https://shreyansh26blog.herokuapp.com', in_reply_to_status_id=None, in_reply_to_status_id_str=None, in_reply_to_user_id=None, in_reply_to_user_id_str=None, in_reply_to_screen_name=None, author=User(_api=<tweepy.api.API object at 0x000002343A4F49E8>, _json={'id': 2566732320, 'id_str': '2566732320', 'name': 'Shreyansh Singh', 'screen_name': 'shreyansh_26', 'location': 'Pune, India', 'description': 'IIT (BHU) Varanasi | Cybersecurity Research Intern @IITKanpur |  Machine Learning and AI enthusiast | InfoSec geek', 'url': 'https://t.co/ZZUzG7QiYP', 'entities': {'url': {'urls': [{'url': 'https://t.co/ZZUzG7QiYP', 'expanded_url': 'http://shreyansh26.github.io', 'display_url': 'shreyansh26.github.io', 'indices': [0, 23]}]}, 'description': {'urls': []}}, 'protected': False, 'followers_count': 38, 'friends_count': 660, 'listed_count': 0, 'created_at': 'Sat Jun 14 08:44:13 +0000 2014', 'favourites_count': 880, 'utc_offset': None, 'time_zone': None, 'geo_enabled': False, 'verified': False, 'statuses_count': 143, 'lang': 'en', 'contributors_enabled': False, 'is_translator': False, 'is_translation_enabled': False, 'profile_background_color': '000000', 'profile_background_image_url': 'http://abs.twimg.com/images/themes/theme1/bg.png', 'profile_background_image_url_https': 'https://abs.twimg.com/images/themes/theme1/bg.png', 'profile_background_tile': False, 'profile_image_url': 'http://pbs.twimg.com/profile_images/1077731837198376960/L7QxX4ey_normal.jpg', 'profile_image_url_https': 'https://pbs.twimg.com/profile_images/1077731837198376960/L7QxX4ey_normal.jpg', 'profile_link_color': '19CF86', 'profile_sidebar_border_color': '000000', 'profile_sidebar_fill_color': '000000', 'profile_text_color': '000000', 'profile_use_background_image': False, 'has_extended_profile': True, 'default_profile': False, 'default_profile_image': False, 'following': False, 'follow_request_sent': False, 'notifications': False, 'translator_type': 'none'}, id=2566732320, id_str='2566732320', name='Shreyansh Singh', screen_name='shreyansh_26', location='Pune, India', description='IIT (BHU) Varanasi | Cybersecurity Research Intern @IITKanpur |  Machine Learning and AI enthusiast | InfoSec geek', url='https://t.co/ZZUzG7QiYP', entities={'url': {'urls': [{'url': 'https://t.co/ZZUzG7QiYP', 'expanded_url': 'http://shreyansh26.github.io', 'display_url': 'shreyansh26.github.io', 'indices': [0, 23]}]}, 'description': {'urls': []}}, protected=False, followers_count=38, friends_count=660, listed_count=0, created_at=datetime.datetime(2014, 6, 14, 8, 44, 13), favourites_count=880, utc_offset=None, time_zone=None, geo_enabled=False, verified=False, statuses_count=143, lang='en', contributors_enabled=False, is_translator=False, is_translation_enabled=False, profile_background_color='000000', profile_background_image_url='http://abs.twimg.com/images/themes/theme1/bg.png', profile_background_image_url_https='https://abs.twimg.com/images/themes/theme1/bg.png', profile_background_tile=False, profile_image_url='http://pbs.twimg.com/profile_images/1077731837198376960/L7QxX4ey_normal.jpg', profile_image_url_https='https://pbs.twimg.com/profile_images/1077731837198376960/L7QxX4ey_normal.jpg', profile_link_color='19CF86', profile_sidebar_border_color='000000', profile_sidebar_fill_color='000000', profile_text_color='000000', profile_use_background_image=False, has_extended_profile=True, default_profile=False, default_profile_image=False, following=False, follow_request_sent=False, notifications=False, translator_type='none'), user=User(_api=<tweepy.api.API object at 0x000002343A4F49E8>, _json={'id': 2566732320, 'id_str': '2566732320', 'name': 'Shreyansh Singh', 'screen_name': 'shreyansh_26', 'location': 'Pune, India', 'description': 'IIT (BHU) Varanasi | Cybersecurity Research Intern @IITKanpur |  Machine Learning and AI enthusiast | InfoSec geek', 'url': 'https://t.co/ZZUzG7QiYP', 'entities': {'url': {'urls': [{'url': 'https://t.co/ZZUzG7QiYP', 'expanded_url': 'http://shreyansh26.github.io', 'display_url': 'shreyansh26.github.io', 'indices': [0, 23]}]}, 'description': {'urls': []}}, 'protected': False, 'followers_count': 38, 'friends_count': 660, 'listed_count': 0, 'created_at': 'Sat Jun 14 08:44:13 +0000 2014', 'favourites_count': 880, 'utc_offset': None, 'time_zone': None, 'geo_enabled': False, 'verified': False, 'statuses_count': 143, 'lang': 'en', 'contributors_enabled': False, 'is_translator': False, 'is_translation_enabled': False, 'profile_background_color': '000000', 'profile_background_image_url': 'http://abs.twimg.com/images/themes/theme1/bg.png', 'profile_background_image_url_https': 'https://abs.twimg.com/images/themes/theme1/bg.png', 'profile_background_tile': False, 'profile_image_url': 'http://pbs.twimg.com/profile_images/1077731837198376960/L7QxX4ey_normal.jpg', 'profile_image_url_https': 'https://pbs.twimg.com/profile_images/1077731837198376960/L7QxX4ey_normal.jpg', 'profile_link_color': '19CF86', 'profile_sidebar_border_color': '000000', 'profile_sidebar_fill_color': '000000', 'profile_text_color': '000000', 'profile_use_background_image': False, 'has_extended_profile': True, 'default_profile': False, 'default_profile_image': False, 'following': False, 'follow_request_sent': False, 'notifications': False, 'translator_type': 'none'}, id=2566732320, id_str='2566732320', name='Shreyansh Singh', screen_name='shreyansh_26', location='Pune, India', description='IIT (BHU) Varanasi | Cybersecurity Research Intern @IITKanpur |  Machine Learning and AI enthusiast | InfoSec geek', url='https://t.co/ZZUzG7QiYP', entities={'url': {'urls': [{'url': 'https://t.co/ZZUzG7QiYP', 'expanded_url': 'http://shreyansh26.github.io', 'display_url': 'shreyansh26.github.io', 'indices': [0, 23]}]}, 'description': {'urls': []}}, protected=False, followers_count=38, friends_count=660, listed_count=0, created_at=datetime.datetime(2014, 6, 14, 8, 44, 13), favourites_count=880, utc_offset=None, time_zone=None, geo_enabled=False, verified=False, statuses_count=143, lang='en', contributors_enabled=False, is_translator=False, is_translation_enabled=False, profile_background_color='000000', profile_background_image_url='http://abs.twimg.com/images/themes/theme1/bg.png', profile_background_image_url_https='https://abs.twimg.com/images/themes/theme1/bg.png', profile_background_tile=False, profile_image_url='http://pbs.twimg.com/profile_images/1077731837198376960/L7QxX4ey_normal.jpg', profile_image_url_https='https://pbs.twimg.com/profile_images/1077731837198376960/L7QxX4ey_normal.jpg', profile_link_color='19CF86', profile_sidebar_border_color='000000', profile_sidebar_fill_color='000000', profile_text_color='000000', profile_use_background_image=False, has_extended_profile=True, default_profile=False, default_profile_image=False, following=False, follow_request_sent=False, notifications=False, translator_type='none'), geo=None, coordinates=None, place=None, contributors=None, is_quote_status=False, retweet_count=0, favorite_count=0, favorited=False, retweeted=False, lang='en')"
      ]
     },
     "execution_count": 122,
     "metadata": {},
     "output_type": "execute_result"
    }
   ],
   "source": [
    "print(\"Updating my profile picture.\")\n",
    "api.update_profile_image(\"img.jpg\")\n",
    "print(\"Updating my status.\")\n",
    "api.update_status(status = 'Merry Chritsmas to all.')"
   ]
  }
 ],
 "metadata": {
  "kernelspec": {
   "display_name": "Python 3",
   "language": "python",
   "name": "python3"
  },
  "language_info": {
   "codemirror_mode": {
    "name": "ipython",
    "version": 3
   },
   "file_extension": ".py",
   "mimetype": "text/x-python",
   "name": "python",
   "nbconvert_exporter": "python",
   "pygments_lexer": "ipython3",
   "version": "3.7.0"
  }
 },
 "nbformat": 4,
 "nbformat_minor": 2
}
